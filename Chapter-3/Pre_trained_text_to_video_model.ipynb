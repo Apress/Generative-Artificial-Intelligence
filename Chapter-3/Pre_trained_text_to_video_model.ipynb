{
  "cells": [
    {
      "cell_type": "markdown",
      "source": [
        "# **Pre-trained text to video model**\n",
        "Please refer to the respective sections in the book for further details.\n"
      ],
      "metadata": {
        "id": "-uZosZ363b-N"
      }
    },
    {
      "cell_type": "markdown",
      "source": [
        "## **Step 1: Installing Libraries**"
      ],
      "metadata": {
        "id": "XopmL4a53ig1"
      }
    },
    {
      "cell_type": "code",
      "execution_count": null,
      "metadata": {
        "colab": {
          "base_uri": "https://localhost:8080/"
        },
        "id": "h9FM3MWtxObl",
        "outputId": "0a8a6524-dc80-4b44-cc87-4f0f237dfa1e"
      },
      "outputs": [
        {
          "name": "stdout",
          "output_type": "stream",
          "text": [
            "Drive already mounted at /content/drive; to attempt to forcibly remount, call drive.mount(\"/content/drive\", force_remount=True).\n"
          ]
        }
      ],
      "source": [
        "from google.colab import drive\n",
        "drive.mount('/content/drive')"
      ]
    },
    {
      "cell_type": "code",
      "execution_count": null,
      "metadata": {
        "colab": {
          "base_uri": "https://localhost:8080/"
        },
        "id": "QVmVqVQGxdK5",
        "outputId": "c03604b3-d997-443a-fcf9-d55bf3b5f380"
      },
      "outputs": [
        {
          "name": "stdout",
          "output_type": "stream",
          "text": [
            "/content/drive/MyDrive\n"
          ]
        }
      ],
      "source": [
        "%cd /content/drive/MyDrive"
      ]
    },
    {
      "cell_type": "code",
      "source": [
        "!apt-get install git-lfs\n",
        "!git lfs install\n",
        "!git clone https://github.com/hotshotco/Hotshot-XL.git"
      ],
      "metadata": {
        "id": "cVuvj4K89D5N"
      },
      "execution_count": null,
      "outputs": []
    },
    {
      "cell_type": "code",
      "execution_count": null,
      "metadata": {
        "colab": {
          "base_uri": "https://localhost:8080/"
        },
        "id": "pPEB4Nb5xBex",
        "outputId": "e2512e13-0a59-4e1f-af60-8dfcf15e9b4b"
      },
      "outputs": [
        {
          "name": "stdout",
          "output_type": "stream",
          "text": [
            "/content/drive/MyDrive/Hotshot-XL/Hotshot-XL\n"
          ]
        }
      ],
      "source": [
        "cd /content/drive/MyDrive/Hotshot-XL\n",
        "!pip install -r requirements.txt"
      ]
    },
    {
      "cell_type": "markdown",
      "source": [
        "## **Step 2: Model Inference**"
      ],
      "metadata": {
        "id": "wR2S6oYI3sCy"
      }
    },
    {
      "cell_type": "code",
      "execution_count": null,
      "metadata": {
        "colab": {
          "background_save": true,
          "base_uri": "https://localhost:8080/"
        },
        "id": "zhNeHsrv3zox",
        "outputId": "7674e2bc-a7bd-41af-d708-7acf5d3e40b7"
      },
      "outputs": [
        {
          "name": "stdout",
          "output_type": "stream",
          "text": [
            "Fetching 18 files: 100% 18/18 [05:15<00:00, 17.51s/it]\n",
            "Loading pipeline components...:  43% 3/7 [00:56<00:52, 13.17s/it]2024-04-23 23:52:29.559706: E external/local_xla/xla/stream_executor/cuda/cuda_dnn.cc:9261] Unable to register cuDNN factory: Attempting to register factory for plugin cuDNN when one has already been registered\n",
            "2024-04-23 23:52:29.559774: E external/local_xla/xla/stream_executor/cuda/cuda_fft.cc:607] Unable to register cuFFT factory: Attempting to register factory for plugin cuFFT when one has already been registered\n",
            "2024-04-23 23:52:29.685093: E external/local_xla/xla/stream_executor/cuda/cuda_blas.cc:1515] Unable to register cuBLAS factory: Attempting to register factory for plugin cuBLAS when one has already been registered\n",
            "2024-04-23 23:52:32.817545: W tensorflow/compiler/tf2tensorrt/utils/py_utils.cc:38] TF-TRT Warning: Could not find TensorRT\n",
            "Loading pipeline components...: 100% 7/7 [01:21<00:00, 11.58s/it]\n",
            "Warning - setting num_images_per_prompt = 1 because video_length = 8\n",
            "100% 30/30 [00:19<00:00,  1.54it/s]\n",
            "100% 8/8 [00:00<00:00, 14.80it/s]\n"
          ]
        }
      ],
      "source": [
        "!python inference.py \\\n",
        "  --prompt=\"a close up of a pink flower in a vase against a yellow background\" \\\n",
        "  --output=\"pre_trained_output.gif\" \\\n",
        "  --width=512 \\\n",
        "  --height=512"
      ]
    }
  ],
  "metadata": {
    "accelerator": "GPU",
    "colab": {
      "gpuType": "V100",
      "provenance": []
    },
    "kernelspec": {
      "display_name": "Python 3",
      "name": "python3"
    },
    "language_info": {
      "name": "python"
    }
  },
  "nbformat": 4,
  "nbformat_minor": 0
}