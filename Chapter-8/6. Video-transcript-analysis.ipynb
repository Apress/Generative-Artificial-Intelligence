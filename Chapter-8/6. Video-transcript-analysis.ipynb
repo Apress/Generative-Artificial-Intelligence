{
 "cells": [
  {
   "cell_type": "markdown",
   "id": "bac5d807",
   "metadata": {},
   "source": [
    "# Video Transcript Analysis using LLM\n"
   ]
  },
  {
   "cell_type": "markdown",
   "id": "22bb7f48-c356-47b2-973d-fd620fb8a969",
   "metadata": {},
   "source": [
    "## Please refer to the respective sections in the book for further details.\n"
   ]
  },
  {
   "cell_type": "markdown",
   "id": "bb4c3e41-cb14-438d-aaae-2d41cef9cbf5",
   "metadata": {},
   "source": [
    "## Step1. Install and set up the development environment"
   ]
  },
  {
   "cell_type": "code",
   "execution_count": null,
   "id": "11af2ef1",
   "metadata": {},
   "outputs": [],
   "source": [
    "!pip install openai\n"
   ]
  },
  {
   "cell_type": "code",
   "execution_count": null,
   "id": "e9ee4ae7",
   "metadata": {},
   "outputs": [],
   "source": [
    "import os\n",
    "os.environ[\"OPENAI_API_KEY\"] = \"XXXXXXXXXXXXXXX\" ## INSERT YOUR OPENAPI KEY HERE"
   ]
  },
  {
   "cell_type": "code",
   "execution_count": null,
   "id": "a2ce65a7",
   "metadata": {},
   "outputs": [],
   "source": [
    "!pip3 install langchain\n"
   ]
  },
  {
   "cell_type": "markdown",
   "id": "53bf42eb",
   "metadata": {},
   "source": [
    "## Step 2. Data Loading\n"
   ]
  },
  {
   "cell_type": "code",
   "execution_count": null,
   "id": "9bdc2139",
   "metadata": {},
   "outputs": [],
   "source": [
    "from langchain.document_loaders import DirectoryLoader\n",
    "\n",
    "text_loader = DirectoryLoader(\"\", glob=\"*.txt\")\n",
    "text_documents = text_loader.load_and_split()\n"
   ]
  },
  {
   "cell_type": "markdown",
   "id": "08514f72",
   "metadata": {},
   "source": [
    "### Step 2.1 Youtube videos transcription\n"
   ]
  },
  {
   "cell_type": "code",
   "execution_count": null,
   "id": "eb79bb46",
   "metadata": {},
   "outputs": [],
   "source": [
    "!pip install youtube-transcript-api"
   ]
  },
  {
   "cell_type": "code",
   "execution_count": null,
   "id": "a98d61c5",
   "metadata": {},
   "outputs": [],
   "source": [
    "from langchain.document_loaders import YoutubeLoader\n",
    "\n",
    "from youtube_transcript_api import YouTubeTranscriptApi\n"
   ]
  },
  {
   "cell_type": "code",
   "execution_count": null,
   "id": "e3ae951f",
   "metadata": {},
   "outputs": [],
   "source": [
    "yt_loader = YoutubeLoader(video_id=\"lrRt9uzWtqU\", language=\"en\")\n",
    "transcripts = yt_loader.load_and_split()"
   ]
  },
  {
   "cell_type": "code",
   "execution_count": null,
   "id": "4788f592",
   "metadata": {},
   "outputs": [],
   "source": [
    "\n",
    "YouTubeTranscriptApi.get_transcript(\"lrRt9uzWtqU\")"
   ]
  },
  {
   "cell_type": "markdown",
   "id": "0ef3b88c",
   "metadata": {},
   "source": [
    "## Step 3. Data processing\n",
    "\n",
    "\n"
   ]
  },
  {
   "cell_type": "code",
   "execution_count": null,
   "id": "ac6a7c0a",
   "metadata": {},
   "outputs": [],
   "source": [
    "!pip install chromadb"
   ]
  },
  {
   "cell_type": "code",
   "execution_count": null,
   "id": "d50bda67",
   "metadata": {},
   "outputs": [],
   "source": [
    "from langchain.embeddings.openai import OpenAIEmbeddings\n",
    "from langchain.vectorstores import Chroma\n",
    "\n",
    "embedding_model = OpenAIEmbeddings()\n",
    "document_store = Chroma.from_documents(transcripts, embedding_model)\n"
   ]
  },
  {
   "cell_type": "code",
   "execution_count": null,
   "id": "a4f6ce04",
   "metadata": {},
   "outputs": [],
   "source": [
    "from langchain.chains import RetrievalQA\n",
    "from langchain.chat_models import ChatOpenAI\n",
    "\n",
    "language_model = ChatOpenAI(model_name=\"gpt-3.5-turbo\", temperature=0.9)\n",
    "\n",
    "question_answer = RetrievalQA.from_chain_type(llm=language_model, \n",
    "                                              chain_type=\"stuff\",\n",
    "                                              retriever=document_store.as_retriever())\n"
   ]
  },
  {
   "cell_type": "markdown",
   "id": "9841b3df",
   "metadata": {},
   "source": [
    "## Step 4. Question Answering"
   ]
  },
  {
   "cell_type": "code",
   "execution_count": null,
   "id": "b023a943",
   "metadata": {},
   "outputs": [],
   "source": [
    "query = \"Who scored more goals in one Champions leage season?\"\n",
    "question_answer.run(query)"
   ]
  },
  {
   "cell_type": "code",
   "execution_count": null,
   "id": "fe7f57e9",
   "metadata": {},
   "outputs": [],
   "source": [
    "query = \"Who scored more goal in one season between Ronaldo and Haaland?\"\n",
    "question_answer.run(query)"
   ]
  },
  {
   "cell_type": "markdown",
   "id": "5fa89056",
   "metadata": {},
   "source": [
    "## Step 5. Post Processing"
   ]
  },
  {
   "cell_type": "code",
   "execution_count": null,
   "id": "a4ef0284",
   "metadata": {},
   "outputs": [],
   "source": [
    "llm = ChatOpenAI(model_name=\"gpt-3.5-turbo\", temperature=0.2)\n",
    "\n",
    "question_answer = RetrievalQA.from_chain_type(llm=llm, \n",
    "                                    chain_type=\"refine\",\n",
    "                                    retriever=document_store.as_retriever())"
   ]
  },
  {
   "cell_type": "markdown",
   "id": "06201ca8",
   "metadata": {},
   "source": [
    "## Step 6. Transcript summarization"
   ]
  },
  {
   "cell_type": "code",
   "execution_count": null,
   "id": "a35a5260",
   "metadata": {
    "scrolled": true
   },
   "outputs": [],
   "source": [
    "YouTubeTranscriptApi.get_transcript(\"IaT-yOiSffI\")"
   ]
  },
  {
   "cell_type": "code",
   "execution_count": null,
   "id": "1597eff6",
   "metadata": {},
   "outputs": [],
   "source": [
    "loader = YoutubeLoader(video_id=\"awPT3ffcvX0\", language=\"en\")\n",
    "summarization_docs = loader.load_and_split()"
   ]
  },
  {
   "cell_type": "code",
   "execution_count": null,
   "id": "85ddf18d",
   "metadata": {
    "scrolled": true
   },
   "outputs": [],
   "source": [
    "summarization_docs"
   ]
  },
  {
   "cell_type": "code",
   "execution_count": null,
   "id": "ee0158b0",
   "metadata": {},
   "outputs": [],
   "source": [
    "summarization_docs[0].page_content[0:1000]"
   ]
  },
  {
   "cell_type": "code",
   "execution_count": null,
   "id": "bc87950d",
   "metadata": {},
   "outputs": [],
   "source": [
    "str(summarization_docs[0])[0:3000]"
   ]
  },
  {
   "cell_type": "code",
   "execution_count": null,
   "id": "cc31350d",
   "metadata": {},
   "outputs": [],
   "source": [
    "str(summarization_docs[0])[-3000:]"
   ]
  },
  {
   "cell_type": "code",
   "execution_count": null,
   "id": "b3e26e39",
   "metadata": {},
   "outputs": [],
   "source": [
    "import requests\n",
    "import json \n",
    "\n",
    "truncated_doc = str(summarization_docs[0])[0:1000]\n",
    "\n",
    "API_URL = \"https://api-inference.huggingface.co/models/google/flan-t5-xxl\"\n",
    "\n",
    "headers = {\"Authorization\": \"Bearer XXXXXXXXXXXXXXX\"} ## INSERT YOUR HUGGINGFACE API TOKEN HERE\n",
    "\n",
    "def query(payload):\n",
    "\tresponse = requests.post(API_URL, headers=headers, json=payload)\n",
    "\treturn response.json()\n",
    "\n",
    "model_input = f\"Provide a summary for the following document:\" + \\\n",
    "        truncated_doc\n",
    "\n",
    "json_data = {\n",
    "    \"inputs\": model_input,\n",
    "    \"parameters\": {'temperature': 0.5, 'max_new_tokens': 300},\n",
    "}\n",
    "\n",
    "response = requests.post(API_URL, headers=headers, json=json_data)\n",
    "json_response = json.loads(response.content.decode(\"utf-8\"))\n",
    "print(json_response)\n",
    "model_output = json_response[0]['generated_text']\n",
    "model_output"
   ]
  },
  {
   "cell_type": "code",
   "execution_count": null,
   "id": "a1a16fab",
   "metadata": {},
   "outputs": [],
   "source": []
  }
 ],
 "metadata": {
  "kernelspec": {
   "display_name": "Python 3 (ipykernel)",
   "language": "python",
   "name": "python3"
  },
  "language_info": {
   "codemirror_mode": {
    "name": "ipython",
    "version": 3
   },
   "file_extension": ".py",
   "mimetype": "text/x-python",
   "name": "python",
   "nbconvert_exporter": "python",
   "pygments_lexer": "ipython3",
   "version": "3.10.0"
  }
 },
 "nbformat": 4,
 "nbformat_minor": 5
}
